{
 "cells": [
  {
   "cell_type": "markdown",
   "metadata": {},
   "source": [
    "## Harmonize Data\n",
    "\n",
    "Make sure to reproject so grids for all layers match up.\n",
    "Check out the\n",
    "[`ds.rio.reproject_match()` method](https://corteva.github.io/rioxarray/stable/examples/reproject_match.html#Reproject-Match)\n",
    "from \n",
    "[rioxarray](https://corteva.github.io/rioxarray/stable/).\n",
    "\n",
    "[Harmonize Video](https://cuboulder.zoom.us/rec/play/ekGBLwpW4gdtvlBstJrS_ehlAzq9INvK37XNdS8WKF-3WfE2xTiZmn1xIlFysuymN67yGbUeUJlpAwzS.HPT5luF6NWi8Ylsl?canPlayFromShare=true&from=share_recording_detail&continueMode=true&componentName=rec-play&originRequestUrl=https%3A%2F%2Fcuboulder.zoom.us%2Frec%2Fshare%2FgtkCgeowtvOgVPHDddcElI144wxCyHXOj1lKi5SEiMlxY1-L9Zm-PDBuTe6lh3Gm.S4X4wzflnTKXQtqr)"
   ]
  },
  {
   "cell_type": "markdown",
   "metadata": {},
   "source": [
    "https://corteva.github.io/rioxarray/stable/examples/reproject_match.html"
   ]
  },
  {
   "cell_type": "markdown",
   "metadata": {},
   "source": [
    "Code from Lilly:"
   ]
  },
  {
   "cell_type": "code",
   "execution_count": null,
   "metadata": {
    "vscode": {
     "languageId": "plaintext"
    }
   },
   "outputs": [],
   "source": [
    "#Harmonize Data Layers: Ensure that each raster layer has consistent spatial resolution and projection.\n",
    "“””To harmonize data layers, ensure that all raster layers have the same spatial resolution and projection. The function `rio.reproject_match()` from the `rioxarray` library can be used to \n",
    "reproject and align one raster layer to match the resolution, extent, and CRS of a reference raster layer. Use `ds.rio.reproject_match()` to align all raster grids.””\n",
    "#Imports\n",
    "import os\n",
    "import rioxarray as rxr\n",
    "\n",
    "def harmonize_raster_layers(reference_raster, input_rasters, output_dir):\n",
    "    \"\"\"\n",
    "    Harmonize raster layers to ensure consistent spatial resolution and projection.\n",
    "    Args:\n",
    "        reference_raster (str): Path to the reference raster file that other rasters will match.\n",
    "        input_rasters (list): List of paths to the input raster files to harmonize.\n",
    "        output_dir (str): Directory to save the harmonized raster files.\n",
    "    Returns:\n",
    "        list: List of file paths to the harmonized raster files.\n",
    "    \"\"\"\n",
    "    os.makedirs(output_dir, exist_ok=True)  # Create output directory if it doesn't exis\n",
    "\n",
    "   # Load the reference raster\n",
    "    ref_raster = rxr.open_rasterio(reference_raster, masked=True)\n",
    "    harmonized_files = []\n",
    "    for raster_path in input_rasters:\n",
    "        # Load the input raster\n",
    "        input_raster = rxr.open_rasterio(raster_path, masked=True)\n",
    "        # Reproject and align the input raster to match the reference raster\n",
    "        harmonized_raster = input_raster.rio.reproject_match(ref_raster)\n",
    "        # Save the harmonized raster to the output directory\n",
    "        output_file = os.path.join(output_dir, os.path.basename(raster_path))\n",
    "        harmonized_raster.rio.to_raster(output_file)\n",
    "        print(f\"Harmonized raster saved to: {output_file}\")\n",
    "        harmonized_files.append(output_file)\n",
    "    return harmonized_files"
   ]
  }
 ],
 "metadata": {
  "language_info": {
   "name": "python"
  }
 },
 "nbformat": 4,
 "nbformat_minor": 2
}
