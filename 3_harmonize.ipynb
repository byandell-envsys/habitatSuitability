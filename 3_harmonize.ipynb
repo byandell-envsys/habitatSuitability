{
 "cells": [
  {
   "cell_type": "markdown",
   "metadata": {},
   "source": [
    "## Harmonize Data\n",
    "\n",
    "Make sure to reproject so all grids line up."
   ]
  }
 ],
 "metadata": {
  "language_info": {
   "name": "python"
  }
 },
 "nbformat": 4,
 "nbformat_minor": 2
}
