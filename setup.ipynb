{
 "cells": [
  {
   "cell_type": "markdown",
   "metadata": {},
   "source": [
    "## Python 3.11.10\n",
    "\n",
    "This was created in October 2024 by \n",
    "[EarthLab](https://earthlab.uw.edu/)\n",
    "for\n",
    "[Earth Data Analytics Foundations Certificate Program](https://github.com/earthlab-education/Earth-Analytics-AY24).\n",
    "It includes multiple modules relevant for earth data science."
   ]
  },
  {
   "cell_type": "code",
   "execution_count": 1,
   "metadata": {},
   "outputs": [
    {
     "name": "stdout",
     "output_type": "stream",
     "text": [
      "Package                   Version\n",
      "------------------------- -----------\n",
      "affine                    2.4.0\n",
      "aiobotocore               2.18.0\n",
      "aiohappyeyeballs          2.4.4\n",
      "aiohttp                   3.11.11\n",
      "aioitertools              0.12.0\n",
      "aiosignal                 1.3.2\n",
      "anaconda-anon-usage       0.4.4\n",
      "anyio                     4.6.2.post1\n",
      "appdirs                   1.4.4\n",
      "appnope                   0.1.4\n",
      "archspec                  0.2.3\n",
      "asgiref                   3.8.1\n",
      "asttokens                 3.0.0\n",
      "attrs                     24.2.0\n",
      "bleach                    6.2.0\n",
      "bokeh                     3.6.2\n",
      "boltons                   23.0.0\n",
      "botocore                  1.36.1\n",
      "bounded-pool-executor     0.0.3\n",
      "Brotli                    1.0.9\n",
      "Cartopy                   0.24.1\n",
      "cattrs                    24.1.2\n",
      "certifi                   2024.7.4\n",
      "cffi                      1.16.0\n",
      "charset-normalizer        3.3.2\n",
      "click                     8.1.7\n",
      "click-plugins             1.1.1\n",
      "cligj                     0.7.2\n",
      "cloudpickle               3.1.0\n",
      "colorcet                  3.1.0\n",
      "comm                      0.2.2\n",
      "conda                     24.7.1\n",
      "conda-content-trust       0.2.0\n",
      "conda-libmamba-solver     24.7.0\n",
      "conda-package-handling    2.3.0\n",
      "conda_package_streaming   0.10.0\n",
      "contourpy                 1.3.0\n",
      "cryptography              42.0.5\n",
      "cycler                    0.12.1\n",
      "dask                      2024.11.2\n",
      "dask-expr                 1.1.19\n",
      "datashader                0.16.3\n",
      "debugpy                   1.8.11\n",
      "decorator                 5.1.1\n",
      "distro                    1.9.0\n",
      "earthaccess               0.12.0\n",
      "executing                 2.1.0\n",
      "fastjsonschema            2.21.1\n",
      "fonttools                 4.54.1\n",
      "frozendict                2.4.2\n",
      "frozenlist                1.5.0\n",
      "fsspec                    2024.12.0\n",
      "geojson-rewind            1.1.0\n",
      "geomet                    1.1.0\n",
      "geopandas                 1.0.1\n",
      "geyser                    0.2\n",
      "h11                       0.14.0\n",
      "holoviews                 1.20.0\n",
      "htmltools                 0.6.0\n",
      "hvplot                    0.11.2\n",
      "idna                      3.7\n",
      "importlib_resources       6.5.2\n",
      "ipykernel                 6.29.5\n",
      "ipython                   8.31.0\n",
      "ipywidgets                8.1.5\n",
      "jedi                      0.19.2\n",
      "Jinja2                    3.1.5\n",
      "jmespath                  1.0.1\n",
      "jsonpatch                 1.33\n",
      "jsonpointer               2.1\n",
      "jsonschema                4.23.0\n",
      "jsonschema-specifications 2024.10.1\n",
      "jupyter_client            8.6.3\n",
      "jupyter_core              5.7.2\n",
      "jupyterlab_widgets        3.0.13\n",
      "kiwisolver                1.4.7\n",
      "landmapy                  0.2\n",
      "libmambapy                1.5.8\n",
      "linkify-it-py             2.0.3\n",
      "llvmlite                  0.43.0\n",
      "locket                    1.0.0\n",
      "Markdown                  3.7\n",
      "markdown-it-py            3.0.0\n",
      "MarkupSafe                3.0.2\n",
      "matplotlib                3.9.2\n",
      "matplotlib-inline         0.1.7\n",
      "mdit-py-plugins           0.4.2\n",
      "mdurl                     0.1.2\n",
      "menuinst                  2.1.2\n",
      "mizani                    0.13.0\n",
      "multidict                 6.1.0\n",
      "multimethod               2.0\n",
      "multipledispatch          1.0.0\n",
      "narwhals                  1.14.1\n",
      "nbclient                  0.10.2\n",
      "nbformat                  5.10.4\n",
      "nest-asyncio              1.6.0\n",
      "numba                     0.60.0\n",
      "numpy                     2.0.2\n",
      "orjson                    3.10.11\n",
      "packaging                 24.2\n",
      "pandas                    2.2.3\n",
      "panel                     1.5.5\n",
      "param                     2.2.0\n",
      "parso                     0.8.4\n",
      "partd                     1.4.2\n",
      "patsy                     1.0.1\n",
      "pexpect                   4.9.0\n",
      "pickleshare               0.7.5\n",
      "pillow                    11.0.0\n",
      "pip                       24.3.1\n",
      "platformdirs              4.3.6\n",
      "plotnine                  0.14.1\n",
      "pluggy                    1.0.0\n",
      "pooch                     1.8.2\n",
      "pqdm                      0.2.0\n",
      "prompt-toolkit            3.0.36\n",
      "propcache                 0.2.1\n",
      "psutil                    6.1.1\n",
      "ptyprocess                0.7.0\n",
      "pure_eval                 0.2.3\n",
      "pyarrow                   18.0.0\n",
      "pycosat                   0.6.6\n",
      "pycparser                 2.21\n",
      "pyct                      0.5.0\n",
      "pygbif                    0.6.4\n",
      "Pygments                  2.19.1\n",
      "PyJWT                     2.10.1\n",
      "pyogrio                   0.10.0\n",
      "pyparsing                 3.2.0\n",
      "pyproj                    3.7.0\n",
      "pyshp                     2.3.1\n",
      "PySocks                   1.7.1\n",
      "python-cmr                0.13.0\n",
      "python-dateutil           2.9.0.post0\n",
      "python-multipart          0.0.17\n",
      "pytz                      2024.2\n",
      "pyviz_comms               3.0.4\n",
      "PyYAML                    6.0.2\n",
      "pyzmq                     26.2.0\n",
      "questionary               2.0.1\n",
      "rasterio                  1.4.3\n",
      "referencing               0.35.1\n",
      "regionmask                0.13.0\n",
      "requests                  2.32.3\n",
      "requests-cache            1.2.1\n",
      "rioxarray                 0.18.1\n",
      "rpds-py                   0.22.3\n",
      "rpy2                      3.5.17\n",
      "rsconnect_python          1.25.1\n",
      "ruamel.yaml               0.17.21\n",
      "s3fs                      2024.12.0\n",
      "scipy                     1.14.1\n",
      "seaborn                   0.13.2\n",
      "semver                    3.0.2\n",
      "setuptools                72.1.0\n",
      "shapely                   2.0.6\n",
      "shiny                     1.2.1\n",
      "shinywidgets              0.4.2\n",
      "six                       1.17.0\n",
      "sniffio                   1.3.1\n",
      "stack-data                0.6.3\n",
      "starlette                 0.41.3\n",
      "statsmodels               0.14.4\n",
      "tinynetrc                 1.3.1\n",
      "toolz                     1.0.0\n",
      "tornado                   6.4.2\n",
      "tqdm                      4.66.4\n",
      "traitlets                 5.14.3\n",
      "truststore                0.8.0\n",
      "typing_extensions         4.12.2\n",
      "tzdata                    2024.2\n",
      "tzlocal                   5.2\n",
      "uc-micro-py               1.0.3\n",
      "url-normalize             1.4.3\n",
      "urllib3                   2.2.2\n",
      "uvicorn                   0.32.0\n",
      "watchfiles                0.24.0\n",
      "wcwidth                   0.2.13\n",
      "webencodings              0.5.1\n",
      "websockets                14.1\n",
      "wheel                     0.43.0\n",
      "widgetsnbextension        4.0.13\n",
      "wrapt                     1.17.2\n",
      "xarray                    2025.1.1\n",
      "xarray-spatial            0.4.0\n",
      "xyzservices               2024.9.0\n",
      "yarl                      1.18.3\n",
      "zstandard                 0.22.0\n",
      "Note: you may need to restart the kernel to use updated packages.\n"
     ]
    }
   ],
   "source": [
    "pip list"
   ]
  },
  {
   "cell_type": "code",
   "execution_count": 1,
   "metadata": {},
   "outputs": [
    {
     "name": "stdout",
     "output_type": "stream",
     "text": [
      "Note: you may need to restart the kernel to use updated packages.\n"
     ]
    }
   ],
   "source": [
    "pip install --quiet ~/Documents/GitHub/landmapy"
   ]
  },
  {
   "cell_type": "markdown",
   "metadata": {},
   "source": [
    "## Python 3.12.4\n",
    "\n",
    "Switched to base (Python 3.12.4) and some packages needed to be installed.\n",
    "However, NetCDF is complicated and skipping for now."
   ]
  },
  {
   "cell_type": "code",
   "execution_count": null,
   "metadata": {},
   "outputs": [
    {
     "name": "stdout",
     "output_type": "stream",
     "text": [
      "Requirement already satisfied: earthaccess in /Users/brianyandell/miniconda3/lib/python3.12/site-packages (0.12.0)\n",
      "Requirement already satisfied: fsspec>=2022.11 in /Users/brianyandell/miniconda3/lib/python3.12/site-packages (from earthaccess) (2024.12.0)\n",
      "Requirement already satisfied: importlib-resources>=6.3.2 in /Users/brianyandell/miniconda3/lib/python3.12/site-packages (from earthaccess) (6.5.2)\n",
      "Requirement already satisfied: multimethod>=1.8 in /Users/brianyandell/miniconda3/lib/python3.12/site-packages (from earthaccess) (2.0)\n",
      "Requirement already satisfied: pqdm>=0.1 in /Users/brianyandell/miniconda3/lib/python3.12/site-packages (from earthaccess) (0.2.0)\n",
      "Requirement already satisfied: python-cmr>=0.10.0 in /Users/brianyandell/miniconda3/lib/python3.12/site-packages (from earthaccess) (0.13.0)\n",
      "Requirement already satisfied: requests>=2.26 in /Users/brianyandell/miniconda3/lib/python3.12/site-packages (from earthaccess) (2.32.3)\n",
      "Requirement already satisfied: s3fs>=2022.11 in /Users/brianyandell/miniconda3/lib/python3.12/site-packages (from earthaccess) (2024.12.0)\n",
      "Requirement already satisfied: tinynetrc>=1.3.1 in /Users/brianyandell/miniconda3/lib/python3.12/site-packages (from earthaccess) (1.3.1)\n",
      "Requirement already satisfied: typing-extensions>=4.10.0 in /Users/brianyandell/miniconda3/lib/python3.12/site-packages (from earthaccess) (4.12.2)\n",
      "Requirement already satisfied: bounded-pool-executor in /Users/brianyandell/miniconda3/lib/python3.12/site-packages (from pqdm>=0.1->earthaccess) (0.0.3)\n",
      "Requirement already satisfied: tqdm in /Users/brianyandell/miniconda3/lib/python3.12/site-packages (from pqdm>=0.1->earthaccess) (4.66.4)\n",
      "Requirement already satisfied: python-dateutil<3.0.0,>=2.8.2 in /Users/brianyandell/.local/lib/python3.12/site-packages (from python-cmr>=0.10.0->earthaccess) (2.9.0.post0)\n",
      "Requirement already satisfied: charset-normalizer<4,>=2 in /Users/brianyandell/miniconda3/lib/python3.12/site-packages (from requests>=2.26->earthaccess) (3.3.2)\n",
      "Requirement already satisfied: idna<4,>=2.5 in /Users/brianyandell/miniconda3/lib/python3.12/site-packages (from requests>=2.26->earthaccess) (3.7)\n",
      "Requirement already satisfied: urllib3<3,>=1.21.1 in /Users/brianyandell/miniconda3/lib/python3.12/site-packages (from requests>=2.26->earthaccess) (2.2.2)\n",
      "Requirement already satisfied: certifi>=2017.4.17 in /Users/brianyandell/miniconda3/lib/python3.12/site-packages (from requests>=2.26->earthaccess) (2024.7.4)\n",
      "Requirement already satisfied: aiobotocore<3.0.0,>=2.5.4 in /Users/brianyandell/miniconda3/lib/python3.12/site-packages (from s3fs>=2022.11->earthaccess) (2.18.0)\n",
      "Requirement already satisfied: aiohttp!=4.0.0a0,!=4.0.0a1 in /Users/brianyandell/miniconda3/lib/python3.12/site-packages (from s3fs>=2022.11->earthaccess) (3.11.11)\n",
      "Requirement already satisfied: aioitertools<1.0.0,>=0.5.1 in /Users/brianyandell/miniconda3/lib/python3.12/site-packages (from aiobotocore<3.0.0,>=2.5.4->s3fs>=2022.11->earthaccess) (0.12.0)\n",
      "Requirement already satisfied: botocore<1.36.2,>=1.36.0 in /Users/brianyandell/miniconda3/lib/python3.12/site-packages (from aiobotocore<3.0.0,>=2.5.4->s3fs>=2022.11->earthaccess) (1.36.1)\n",
      "Requirement already satisfied: jmespath<2.0.0,>=0.7.1 in /Users/brianyandell/miniconda3/lib/python3.12/site-packages (from aiobotocore<3.0.0,>=2.5.4->s3fs>=2022.11->earthaccess) (1.0.1)\n",
      "Requirement already satisfied: multidict<7.0.0,>=6.0.0 in /Users/brianyandell/miniconda3/lib/python3.12/site-packages (from aiobotocore<3.0.0,>=2.5.4->s3fs>=2022.11->earthaccess) (6.1.0)\n",
      "Requirement already satisfied: wrapt<2.0.0,>=1.10.10 in /Users/brianyandell/miniconda3/lib/python3.12/site-packages (from aiobotocore<3.0.0,>=2.5.4->s3fs>=2022.11->earthaccess) (1.17.2)\n",
      "Requirement already satisfied: aiohappyeyeballs>=2.3.0 in /Users/brianyandell/miniconda3/lib/python3.12/site-packages (from aiohttp!=4.0.0a0,!=4.0.0a1->s3fs>=2022.11->earthaccess) (2.4.4)\n",
      "Requirement already satisfied: aiosignal>=1.1.2 in /Users/brianyandell/miniconda3/lib/python3.12/site-packages (from aiohttp!=4.0.0a0,!=4.0.0a1->s3fs>=2022.11->earthaccess) (1.3.2)\n",
      "Requirement already satisfied: attrs>=17.3.0 in /Users/brianyandell/miniconda3/lib/python3.12/site-packages (from aiohttp!=4.0.0a0,!=4.0.0a1->s3fs>=2022.11->earthaccess) (24.2.0)\n",
      "Requirement already satisfied: frozenlist>=1.1.1 in /Users/brianyandell/miniconda3/lib/python3.12/site-packages (from aiohttp!=4.0.0a0,!=4.0.0a1->s3fs>=2022.11->earthaccess) (1.5.0)\n",
      "Requirement already satisfied: propcache>=0.2.0 in /Users/brianyandell/miniconda3/lib/python3.12/site-packages (from aiohttp!=4.0.0a0,!=4.0.0a1->s3fs>=2022.11->earthaccess) (0.2.1)\n",
      "Requirement already satisfied: yarl<2.0,>=1.17.0 in /Users/brianyandell/miniconda3/lib/python3.12/site-packages (from aiohttp!=4.0.0a0,!=4.0.0a1->s3fs>=2022.11->earthaccess) (1.18.3)\n",
      "Requirement already satisfied: six>=1.5 in /Users/brianyandell/.local/lib/python3.12/site-packages (from python-dateutil<3.0.0,>=2.8.2->python-cmr>=0.10.0->earthaccess) (1.17.0)\n",
      "Note: you may need to restart the kernel to use updated packages.\n"
     ]
    }
   ],
   "source": [
    "pip install --quiet earthaccess"
   ]
  },
  {
   "cell_type": "code",
   "execution_count": 3,
   "metadata": {},
   "outputs": [
    {
     "name": "stdout",
     "output_type": "stream",
     "text": [
      "Note: you may need to restart the kernel to use updated packages.\n"
     ]
    }
   ],
   "source": [
    "pip install --quiet xarray-spatial"
   ]
  },
  {
   "cell_type": "code",
   "execution_count": 4,
   "metadata": {},
   "outputs": [
    {
     "name": "stdout",
     "output_type": "stream",
     "text": [
      "Note: you may need to restart the kernel to use updated packages.\n"
     ]
    }
   ],
   "source": [
    "pip install --quiet pickleshare"
   ]
  },
  {
   "cell_type": "code",
   "execution_count": null,
   "metadata": {},
   "outputs": [],
   "source": [
    "pip install --quiet geopandas"
   ]
  }
 ],
 "metadata": {
  "kernelspec": {
   "display_name": "base",
   "language": "python",
   "name": "python3"
  },
  "language_info": {
   "codemirror_mode": {
    "name": "ipython",
    "version": 3
   },
   "file_extension": ".py",
   "mimetype": "text/x-python",
   "name": "python",
   "nbconvert_exporter": "python",
   "pygments_lexer": "ipython3",
   "version": "3.12.4"
  }
 },
 "nbformat": 4,
 "nbformat_minor": 2
}
