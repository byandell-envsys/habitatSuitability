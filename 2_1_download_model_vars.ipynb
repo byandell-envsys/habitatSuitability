{
 "cells": [
  {
   "cell_type": "markdown",
   "metadata": {},
   "source": [
    "# Download model variables\n",
    "\n",
    "Download as raster layers covering your study area envelope, including:\n",
    "\n",
    "- At least one **soil** variable from the [POLARIS dataset](http://hydrology.cee.duke.edu/POLARIS/PROPERTIES/v1.0/) (**find thresholds**)\n",
    "    - <https://scholars.duke.edu/publication/1381493>\n",
    "    - <https://gee-community-catalog.org/projects/polaris/>\n",
    "    - NW Chaney et al. (2019) POLARIS Soil Properties: 30-m Probabilistic Maps of Soil Properties Over the Contiguous United States. [DOI: 10.1029/2018WR022797](https://doi.org/10.1029/2018WR022797)\n",
    "    - [Accessing and formatting URLS for POLARIS data](https://cuboulder.zoom.us/rec/share/imhCGJcrCgSoE1cJjg02r86GMNjiRz0jwVMJ5c0uWNwBCD5D_0kLSl3CaqLdDI2a.ucGta1EEAiirDUop)\n",
    "    - [Looping through multiple tiles of POLARIS data](https://cuboulder.zoom.us/rec/share/3S7pGOSv7jztZTvg4RSXLj-GicnHwusIDIEDoETZbUN7ivkc6Ryi5GAJyX9Ly6h2.VXl6iFmLChjjUyOg)\n",
    "- Elevation from the SRTM (available from the [earthaccess API](https://github.com/nsidc/earthaccess/))\n",
    "- At least one **climate** variable from the [MACAv2 THREDDS data server](http://thredds.northwestknowledge.net:8080/thredds/reacch_climate_CMIP5_macav2_catalog2.html).\n",
    "    - Pick 2 of these\n",
    "    - [GeoNetwork](https://docs.geonetwork-opensource.org/4.2/):\n",
    "[THREDDS Harvesting](https://docs.geonetwork-opensource.org/4.2/user-guide/harvesting/harvesting-thredds/)"
   ]
  },
  {
   "cell_type": "markdown",
   "metadata": {},
   "source": [
    "## POLARIS Dataset\n",
    "\n",
    "Considering `sand` percentage `mean`. POLARIS data are available at 6 depths, and Bluestem has roots down to 5 feet (150 cm), which is the lowest strata measured (100-200 cm). Data in the\n",
    "[sand 100-200 cm directory](http://hydrology.cee.duke.edu/POLARIS/PROPERTIES/v1.0/sand/mean/100_200/)\n",
    "are saved as separate tif files by longitude.\n",
    "Buvvalo Gap National Grassland is at (centroid) 43.4375° N, 103.0505° W, while Oglala National Grassland is at 42.9404° N, 103.5900° W. That probably suggests\n",
    "\n",
    "- [lat4344_lon-103-102.tif](http://hydrology.cee.duke.edu/POLARIS/PROPERTIES/v1.0/sand/mean/100_200/lat4344_lon-103-102.tif) (33M)\n",
    "- [lat4344_lon-104-103.tif](http://hydrology.cee.duke.edu/POLARIS/PROPERTIES/v1.0/sand/mean/100_200/lat4344_lon-104-103.tif) (33M)"
   ]
  },
  {
   "cell_type": "markdown",
   "metadata": {},
   "source": [
    "https://www.gbif.org/occurrence/download/0014700-241007104925546"
   ]
  },
  {
   "cell_type": "code",
   "execution_count": 2,
   "metadata": {},
   "outputs": [
    {
     "name": "stdout",
     "output_type": "stream",
     "text": [
      "Retrieving notices: ...working... done\n",
      "Channels:\n",
      " - defaults\n",
      " - conda-forge\n",
      "Platform: osx-arm64\n",
      "Collecting package metadata (repodata.json): done\n",
      "Solving environment: failed\n",
      "\n",
      "LibMambaUnsatisfiableError: Encountered problems while solving:\n",
      "  - package pyogrio-0.10.0-py311hc9b973e_0 requires libgdal-core >=3.9.2,<3.10.0a0, but none of the providers can be installed\n",
      "\n",
      "Could not solve for environment specs\n",
      "The following packages are incompatible\n",
      "├─ \u001b[32mgdal\u001b[0m is installable with the potential options\n",
      "│  ├─ \u001b[32mgdal [3.0.2|3.4.1|3.6.0|3.6.2]\u001b[0m would require\n",
      "│  │  └─ \u001b[32mpython >=3.10,<3.11.0a0 \u001b[0m, which can be installed;\n",
      "│  ├─ \u001b[32mgdal [3.0.2|3.4.1|3.6.0|3.6.2]\u001b[0m would require\n",
      "│  │  └─ \u001b[32mpython >=3.8,<3.9.0a0 \u001b[0m, which can be installed;\n",
      "│  ├─ \u001b[32mgdal [3.0.2|3.4.1|3.6.0|3.6.2]\u001b[0m would require\n",
      "│  │  └─ \u001b[32mpython >=3.9,<3.10.0a0 \u001b[0m, which can be installed;\n",
      "│  ├─ \u001b[32mgdal 3.6.0\u001b[0m would require\n",
      "│  │  └─ \u001b[32mlibgdal 3.6.0 h50c47ba_0\u001b[0m, which can be installed;\n",
      "│  ├─ \u001b[32mgdal 3.6.2\u001b[0m would require\n",
      "│  │  └─ \u001b[32mlibgdal 3.6.2 h50c47ba_1\u001b[0m, which can be installed;\n",
      "│  ├─ \u001b[32mgdal 3.6.2\u001b[0m would require\n",
      "│  │  └─ \u001b[32mlibgdal 3.6.2 h50c47ba_0\u001b[0m, which can be installed;\n",
      "│  ├─ \u001b[32mgdal 3.6.2\u001b[0m would require\n",
      "│  │  └─ \u001b[32mlibgdal 3.6.2 h70f5b7c_2\u001b[0m, which can be installed;\n",
      "│  ├─ \u001b[32mgdal 3.6.2\u001b[0m would require\n",
      "│  │  └─ \u001b[32mlibgdal 3.6.2 hdbe3b94_3\u001b[0m, which can be installed;\n",
      "│  ├─ \u001b[32mgdal 3.6.2\u001b[0m would require\n",
      "│  │  └─ \u001b[32mlibgdal 3.6.2 h0413ea8_4\u001b[0m, which can be installed;\n",
      "│  ├─ \u001b[32mgdal 3.6.2\u001b[0m would require\n",
      "│  │  └─ \u001b[32mlibgdal 3.6.2 h51eea9d_5\u001b[0m, which can be installed;\n",
      "│  ├─ \u001b[32mgdal 3.6.2\u001b[0m would require\n",
      "│  │  └─ \u001b[32mlibgdal 3.6.2 h51eea9d_6\u001b[0m, which can be installed;\n",
      "│  ├─ \u001b[32mgdal 3.6.2\u001b[0m would require\n",
      "│  │  └─ \u001b[32mlibgdal 3.6.2 h51eea9d_7\u001b[0m, which can be installed;\n",
      "│  ├─ \u001b[32mgdal 3.6.2\u001b[0m would require\n",
      "│  │  └─ \u001b[32mlibgdal 3.6.2 hb72785c_3\u001b[0m, which can be installed;\n",
      "│  └─ \u001b[32mgdal 3.6.2\u001b[0m would require\n",
      "│     └─ \u001b[32mpython >=3.12,<3.13.0a0 \u001b[0m, which can be installed;\n",
      "├─ \u001b[31mpin-1\u001b[0m is not installable because it requires\n",
      "│  └─ \u001b[31mpython 3.11.* \u001b[0m, which conflicts with any installable versions previously reported;\n",
      "└─ \u001b[31mpyogrio\u001b[0m is not installable because it requires\n",
      "   └─ \u001b[31mlibgdal-core >=3.9.2,<3.10.0a0 \u001b[0m, which requires\n",
      "      └─ \u001b[31mlibgdal 3.9.2.* \u001b[0m, which conflicts with any installable versions previously reported.\n",
      "\n"
     ]
    }
   ],
   "source": [
    "!conda install gdal"
   ]
  },
  {
   "cell_type": "code",
   "execution_count": 1,
   "metadata": {},
   "outputs": [
    {
     "ename": "ModuleNotFoundError",
     "evalue": "No module named 'osgeo'",
     "output_type": "error",
     "traceback": [
      "\u001b[0;31m---------------------------------------------------------------------------\u001b[0m",
      "\u001b[0;31mModuleNotFoundError\u001b[0m                       Traceback (most recent call last)",
      "Cell \u001b[0;32mIn[1], line 1\u001b[0m\n\u001b[0;32m----> 1\u001b[0m \u001b[38;5;28;01mfrom\u001b[39;00m \u001b[38;5;21;01mosgeo\u001b[39;00m \u001b[38;5;28;01mimport\u001b[39;00m gdal\n\u001b[1;32m      2\u001b[0m \u001b[38;5;28;01mimport\u001b[39;00m \u001b[38;5;21;01mnumpy\u001b[39;00m \u001b[38;5;28;01mas\u001b[39;00m \u001b[38;5;21;01mnp\u001b[39;00m\n\u001b[1;32m      4\u001b[0m \u001b[38;5;28;01mdef\u001b[39;00m \u001b[38;5;21mread_geotiff\u001b[39m(filename):\n",
      "\u001b[0;31mModuleNotFoundError\u001b[0m: No module named 'osgeo'"
     ]
    }
   ],
   "source": [
    "from osgeo import gdal\n",
    "import numpy as np\n",
    "\n",
    "def read_geotiff(filename):\n",
    "    \"\"\"Reads a GeoTIFF file and returns a NumPy array.\"\"\"\n",
    "    ds = gdal.Open(filename)\n",
    "    band = ds.GetRasterBand(1)  # Assuming single-band GeoTIFF\n",
    "    array = band.ReadAsArray()\n",
    "    return array\n"
   ]
  },
  {
   "cell_type": "code",
   "execution_count": null,
   "metadata": {},
   "outputs": [],
   "source": [
    "\n",
    "# Example usage\n",
    "filename = \"data/lat4344_lon-103-102.tif\"\n",
    "data = read_geotiff(filename)\n",
    "\n",
    "print(data.shape)  # Print the shape of the NumPy array"
   ]
  }
 ],
 "metadata": {
  "kernelspec": {
   "display_name": "earth-analytics-python",
   "language": "python",
   "name": "python3"
  },
  "language_info": {
   "codemirror_mode": {
    "name": "ipython",
    "version": 3
   },
   "file_extension": ".py",
   "mimetype": "text/x-python",
   "name": "python",
   "nbconvert_exporter": "python",
   "pygments_lexer": "ipython3",
   "version": "3.11.10"
  }
 },
 "nbformat": 4,
 "nbformat_minor": 2
}
