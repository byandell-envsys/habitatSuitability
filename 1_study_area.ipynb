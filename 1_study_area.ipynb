{
 "cells": [
  {
   "cell_type": "markdown",
   "metadata": {},
   "source": [
    "# Define Study Area\n",
    "\n",
    "Select **at least 2** study sites.\n",
    "\n",
    "### Resources\n",
    "\n",
    "- Duan, K., Sun, G., Sun, S. et al. Divergence of ecosystem services in U.S. National Forests and Grasslands under a changing climate. Sci Rep 6, 24441 (2016). [DOI: 10.1038/srep24441](https://doi.org/10.1038/srep24441)\n",
    "- [USFS National Grasslands](https://www.fs.usda.gov/managing-land/national-forests-grasslands/national-grasslands)\n",
    "    - [Units ZIPfile](https://data.fs.usda.gov/geodata/edw/edw_resources/shp/S_USA.NationalGrassland.zip)\n",
    "- [USFS Maps](https://www.fs.usda.gov/visit/maps)\n",
    "    - [USFS ArcGIS Grassland Units](https://data-usfs.hub.arcgis.com/datasets/usfs::national-grassland-units-feature-layer/explore?location=41.300146%2C-107.829591%2C6.23)\n",
    "    - [USFS IVM Digital Map](https://www.fs.usda.gov/ivm/)\n",
    "    - [Download PDF or JPG Map](https://experience.arcgis.com/experience/9ab8d03e2bec4d7fbfc27ba836e70aed/page/Forest-Series/#data_s=id%3AdataSource_2-Forest_Series_Index_6205%3A1430)\n",
    "- [ArcGIS Map Viewer](https://www.arcgis.com/home/webmap/viewer.html)\n",
    "- Great resource for plant growth characteristics: <https://plants.usda.gov/>"
   ]
  },
  {
   "cell_type": "markdown",
   "metadata": {},
   "source": [
    "## Yandell Proposed Study Sites\n",
    "\n",
    "- [Buffalo Gap National Grassland](https://www.fs.usda.gov/recarea/nebraska/recarea/?recid=30329)\n",
    "    - [Recreation Area](https://www.fs.usda.gov/detail/r2/recreation?cid=stelprdb5389082)\n",
    "    - [Data Download](https://data-usfs.hub.arcgis.com/datasets/usfs::national-grassland-units-feature-layer/explore?location=43.534637%2C-102.565490%2C8.34)\n",
    "    - (OBJECTID 186937, NATIONALGRASSLANDID 295518010328)\t\n",
    "- [Oglala National Grassland](https://www.fs.usda.gov/recarea/nebraska/recarea/?recid=30328)\n",
    "    - [Visit](https://visitnebraska.com/harrison/oglala-national-grassland)\n",
    "    - [Data Download](https://data-usfs.hub.arcgis.com/datasets/usfs::national-grassland-units-feature-layer/explore?location=43.509639%2C-102.570535%2C8.36)\n",
    "    - (OBJECTID 186940, NATIONALGRASSLANDID 295521010328)"
   ]
  },
  {
   "cell_type": "markdown",
   "metadata": {},
   "source": [
    "# Species Selection\n",
    "\n",
    "Research your species, and find out what optimal values are for each variable you are using (e.g. soil pH, slope, and current climatological annual precipitation)"
   ]
  },
  {
   "cell_type": "markdown",
   "metadata": {},
   "source": [
    "_[MS Copilot](https://copilot.microsoft.com/):_\n",
    "_What are the important plant species in Buffalo Gap National Grassland?_\n",
    "\n",
    "Buffalo Gap National Grassland in South Dakota is home to a diverse range of plant species. Some of the important plants you can find there include:\n",
    "\n",
    "- Bluestem Grass: This tallgrass species can reach shoulder height in the summer and is a key component of the prairie ecosystem.\n",
    "    - [Prairie Nursery](https://www.prairienursery.com/big-bluestem-andropogon-gerardii.html)\n",
    "    - [Turner Seed](https://www.turnerseed.com/little-bluestem-native.html)\n",
    "    - [Nature Hills](https://naturehills.com/collections/bluestem-grass)\n",
    "- Switchgrass: Another tallgrass, switchgrass is known for its deep roots and resilience in semi-arid conditions.\n",
    "    - [Prairie Nursery](https://www.prairienursery.com/switchgrass-panicum-virgatum.html)\n",
    "    - [Ladybird Johnson Wildflower Center](https://www.wildflower.org/plants/result.php?id_plant=pavi2)\n",
    "    - [Wikipedia](https://en.wikipedia.org/wiki/Panicum_virgatum)\n",
    "- Indian Grass: This species is also prominent in the grassland, contributing to the tallgrass prairie habitat.\n",
    "    - [Ladybird Johnson Wildflower Center](https://www.wildflower.org/plants/result.php?id_plant=sonu2)\n",
    "    - [Prairie Nursery](https://www.prairienursery.com/indiangrass-sorghastrum-nutans.html)\n",
    "    - [High Country Gardens](https://www.highcountrygardens.com/product/perennial-plants/sorghastrum-nutans-thin-man)\n",
    "    - [Prairie Moon Nursery](https://www.prairiemoon.com/sorghastrum-nutans-indian-grass)\n",
    "    - [Roundstone Native Seed](https://roundstoneseed.com/native-grasses/108-indian-grass.html)\n",
    "    - [USDA Natural Resources Conservation Service](https://www.nrcs.usda.gov/plantmaterials/etpmcpg13196.pdf)\n",
    "    - [Wikipedia](https://en.wikipedia.org/wiki/Sorghastrum_nutans)\n",
    "    - [Missouri Botanical Garden](https://www.missouribotanicalgarden.org/PlantFinder/PlantFinderDetails.aspx?kempercode=g780)\n",
    "- Blue Grama: A shortgrass species that rarely grows above a few inches, even in good years.\n",
    "    - [Ladybird Johnson Wildflower Center](https://www.wildflower.org/plants/result.php?id_plant=bogr2)\n",
    "    - [Native American Seed](https://seedsource.com/blue-grama/)\n",
    "    - [Prairie Moon Nursery](https://www.prairiemoon.com/bouteloua-gracilis-blue-grama)\n",
    "    - [Calscape](https://calscape.org/Bouteloua-gracilis-(Blue-Grama))\n",
    "    - [Wikipedia](https://en.wikipedia.org/wiki/Bouteloua_gracilis)\n",
    "    - [Turner Seed](https://www.turnerseed.com/blue-grama-native.html)\n",
    "- Buffalo Grass: Another shortgrass, it is well adapted to the dry conditions of the grassland.\n",
    "    - [The Spruce](https://www.thespruce.com/buffalo-grass-7105718)\n",
    "    - [Native American Seed](https://seedsource.com/buffalograss/)\n",
    "    - [Wikipedia](https://en.wikipedia.org/wiki/Bouteloua_dactyloides)\n",
    "    - [Ladybird Johnson Wildflower Center](https://www.wildflower.org/plants/result.php?id_plant=boda2)\n",
    "    - [Prairie Moon Nursery](https://www.prairiemoon.com/buchloe-dactyloides-buffalo-grass-cultivar)\n",
    "\n",
    "Additionally, the grassland is home to nearly 50 species of grasses and hundreds of species of wildflowers2. This rich plant diversity supports a variety of wildlife and contributes to the unique landscape of the region.\n",
    "\n",
    "### References\n",
    "\n",
    "References below from\n",
    "[MS Copilot](https://copilot.microsoft.com/).\n",
    "Citations above found in Google Chrome searches.\n",
    "\n",
    "- [Grasslands Preserve the Lonely Prairie (Pacific Standard)](https://psmag.com/environment/grasslands-preserve-the-lonely-prairie-25537/)\n",
    "- [Buffalo Gap National Grassland (Britannica)](https://www.britannica.com/place/Buffalo-Gap-National-Grassland)\n"
   ]
  }
 ],
 "metadata": {
  "language_info": {
   "name": "python"
  }
 },
 "nbformat": 4,
 "nbformat_minor": 2
}
