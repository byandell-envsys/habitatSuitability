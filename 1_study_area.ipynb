{
 "cells": [
  {
   "cell_type": "markdown",
   "metadata": {},
   "source": [
    "# Define Study Area\n",
    "\n",
    "Select **at least 2** study sites.\n",
    "\n",
    "### Resources\n",
    "\n",
    "- Duan, K., Sun, G., Sun, S. et al. Divergence of ecosystem services in U.S. National Forests and Grasslands under a changing climate. Sci Rep 6, 24441 (2016). [DOI: 10.1038/srep24441](https://doi.org/10.1038/srep24441)\n",
    "- [USFS National Grasslands](https://www.fs.usda.gov/managing-land/national-forests-grasslands/national-grasslands)\n",
    "    - [Units ZIPfile](https://data.fs.usda.gov/geodata/edw/edw_resources/shp/S_USA.NationalGrassland.zip)\n",
    "- [USFS Maps](https://www.fs.usda.gov/visit/maps)\n",
    "    - [USFS ArcGIS Grassland Units](https://data-usfs.hub.arcgis.com/datasets/usfs::national-grassland-units-feature-layer/explore?location=41.300146%2C-107.829591%2C6.23)\n",
    "    - [USFS IVM Digital Map](https://www.fs.usda.gov/ivm/)\n",
    "    - [Download PDF or JPG Map](https://experience.arcgis.com/experience/9ab8d03e2bec4d7fbfc27ba836e70aed/page/Forest-Series/#data_s=id%3AdataSource_2-Forest_Series_Index_6205%3A1430)\n",
    "- [ArcGIS Map Viewer](https://www.arcgis.com/home/webmap/viewer.html)\n",
    "- Great resource for plant growth characteristics: <https://plants.usda.gov/>"
   ]
  },
  {
   "cell_type": "markdown",
   "metadata": {},
   "source": [
    "## Yandell Proposed Study Sites\n",
    "\n",
    "- [Buffalo Gap National Grassland](https://www.fs.usda.gov/recarea/nebraska/recarea/?recid=30329)\n",
    "    - [Recreation Area](https://www.fs.usda.gov/detail/r2/recreation?cid=stelprdb5389082)\n",
    "    - [Data Download](https://data-usfs.hub.arcgis.com/datasets/usfs::national-grassland-units-feature-layer/explore?location=43.534637%2C-102.565490%2C8.34)\n",
    "    - (OBJECTID 186937, NATIONALGRASSLANDID 295518010328)\t\n",
    "- [Oglala National Grassland](https://www.fs.usda.gov/recarea/nebraska/recarea/?recid=30328)\n",
    "    - [Visit](https://visitnebraska.com/harrison/oglala-national-grassland)\n",
    "    - [Data Download](https://data-usfs.hub.arcgis.com/datasets/usfs::national-grassland-units-feature-layer/explore?location=43.509639%2C-102.570535%2C8.36)\n",
    "    - (OBJECTID 186940, NATIONALGRASSLANDID 295521010328)"
   ]
  },
  {
   "cell_type": "markdown",
   "metadata": {},
   "source": [
    "# Species Selection\n",
    "\n",
    "Research your species, and find out what optimal values are for each variable you are using (e.g. soil pH, slope, and current climatological annual precipitation)"
   ]
  }
 ],
 "metadata": {
  "language_info": {
   "name": "python"
  }
 },
 "nbformat": 4,
 "nbformat_minor": 2
}
