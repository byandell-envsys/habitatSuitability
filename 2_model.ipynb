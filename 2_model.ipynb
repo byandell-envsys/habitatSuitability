{
 "cells": [
  {
   "cell_type": "markdown",
   "metadata": {},
   "source": [
    "# Fit a model\n",
    "\n",
    "Your project should compare **two climate scenarios** of your choice (e.g. different time periods, different emission scenarios). You can find a tutorial on how to access these climate data on [earthdatascience.org](https://www.earthdatascience.org/courses/use-data-open-source-python/hierarchical-data-formats-hdf/intro-to-MACAv2-cmip5-data/).\n",
    "For each grassland (start with one), conduct the following steps.\n",
    "These will be laid out in 1-4 separate notebooks per grassland;\n",
    "ideally, code form one grassland will be developed in a generic way with functions to be reusable\n",
    "(DRY).\n",
    "\n",
    "## Download model variables\n",
    "\n",
    "Download as raster layers covering your study area envelope, including:\n",
    "\n",
    "- At least one **soil** variable from the [POLARIS dataset](http://hydrology.cee.duke.edu/POLARIS/PROPERTIES/v1.0/) (**find thresholds**)\n",
    "    - <https://scholars.duke.edu/publication/1381493>\n",
    "    - <https://gee-community-catalog.org/projects/polaris/>\n",
    "- Elevation from the SRTM (available from the [earthaccess API](https://github.com/nsidc/earthaccess/))\n",
    "- At least one **climate** variable from the [MACAv2 THREDDS data server](http://thredds.northwestknowledge.net:8080/thredds/reacch_climate_CMIP5_macav2_catalog2.html).\n",
    "    - Pick 2 of these\n",
    "    - [GeoNetwork](https://docs.geonetwork-opensource.org/4.2/):\n",
    "[THREDDS Harvesting](https://docs.geonetwork-opensource.org/4.2/user-guide/harvesting/harvesting-thredds/)\n",
    "\n",
    "## Calculate at least one derived **topographic** variable\n",
    "\n",
    "Consider **slope** or **aspect** to use in your model. You probably will wish to use the `xarray-spatial` library, which is available in the latest earth-analytics-python environment (but will need to be installed/updated if you are working on your own machine). Note that calculated slope may not be correct if you are using a CRS with units of *degrees*; you should re-project into a projected coordinate system with units of *meters*, such as the appropriate UTM Zone.\n",
    "\n",
    "## Harmonize your data\n",
    "\n",
    "Make sure that the grids for each of your layers match up.\n",
    "Check out the\n",
    "[`ds.rio.reproject_match()` method](https://corteva.github.io/rioxarray/stable/examples/reproject_match.html#Reproject-Match)\n",
    "from \n",
    "[rioxarray](https://corteva.github.io/rioxarray/stable/).\n",
    "\n",
    "## Build your model\n",
    "\n",
    "You can use any model you wish, so long as you explain your choice. However, if you are not sure what to do, we recommend building a **fuzzy logic** model (see below)."
   ]
  },
  {
   "cell_type": "markdown",
   "metadata": {},
   "source": [
    "# Fuzzy Logic Model\n",
    "\n",
    "To train a fuzzy logic habitat suitability model:\n",
    "\n",
    "1. Research your species, and find out what optimal values are for each variable you are using (e.g. soil pH, slope, and current climatological annual precipitation). \n",
    "2. For each **digital number** in each raster, assign a value from 0 to 1 for how close that grid square is to the optimum range (1=optimal, 0=incompatible). \n",
    "3. Combine your layers by multiplying them together. This will give you a **single suitability number** for each square. Check out this\n",
    "[article about raster math](https://www.earthdatascience.org/courses/use-data-open-source-python/intro-raster-data-python/raster-data-processing/subtract-rasters-in-python/)\n",
    "for more info.\n",
    "4. Optionally, you may apply a threshold to make the most suitable areas pop on your map.\n"
   ]
  }
 ],
 "metadata": {
  "language_info": {
   "name": "python"
  }
 },
 "nbformat": 4,
 "nbformat_minor": 2
}
