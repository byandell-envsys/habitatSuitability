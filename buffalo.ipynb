{
 "cells": [
  {
   "cell_type": "markdown",
   "metadata": {},
   "source": [
    "# Buffalo Grasslands Habitat Suitability\n",
    "\n",
    "12-3pm Friday OH Elsa\n",
    "\n",
    "This is a placeholder for now.\n",
    "Working document that contribute to this workflow:\n",
    "\n",
    "- [1_soil](https://github.com/byandell-envsys/habitatSuitability/blob/main/1_1_soil.ipynb)\n",
    "- [1_climate](https://github.com/byandell-envsys/habitatSuitability/blob/main/1_2_climate.ipynb)\n",
    "- [2_slope](https://github.com/byandell-envsys/habitatSuitability/blob/main/2_slope.ipynb)\n",
    "- [3_harmonize](https://github.com/byandell-envsys/habitatSuitability/blob/main/3_harmonize.ipynb)\n",
    "- [4_build](https://github.com/byandell-envsys/habitatSuitability/blob/main/4_build.ipynb)\n"
   ]
  }
 ],
 "metadata": {
  "language_info": {
   "name": "python"
  }
 },
 "nbformat": 4,
 "nbformat_minor": 2
}
