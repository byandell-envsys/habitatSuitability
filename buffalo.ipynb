{
 "cells": [
  {
   "cell_type": "markdown",
   "metadata": {},
   "source": [
    "# Buffalo Grasslands Habitat Suitability\n",
    "\n",
    "The project should compare\n",
    "\n",
    "- two grassland habitats: Buffalo Gap and Oglala National Grasslands\n",
    "- one species: Blue Stem\n",
    "- one soil measurement: percent sand, and maybe pH\n",
    "- two climate scenarios: \n",
    "(e.g. different time periods, different emission scenarios)\n",
    "[Relative concentration pathways (RCPs)](https://coastadapt.com.au/infographics/what-are-rcps)\n",
    "4.5 (current) and 8.5 (worse case)\n",
    "- one elevation: slope\n",
    "\n",
    "For each grassland (start with one), conduct the following steps.\n",
    "These will be laid out in 1-4 separate notebooks per grassland;\n",
    "ideally, code form one grassland will be developed in a generic way with functions to be reusable\n",
    "([DRY](https://www.getdbt.com/blog/guide-to-dry)).\n",
    "\n",
    "Workflow details are currently in separate notebooks.\n",
    "Working document that contribute to this workflow are as follows.\n",
    "\n",
    "- [0_study_area](https://github.com/byandell-envsys/habitatSuitability/blob/main/0_study_area.ipynb)\n",
    "- [1_1_soil](https://github.com/byandell-envsys/habitatSuitability/blob/main/1_1_soil.ipynb)\n",
    "- [1_2_climate](https://github.com/byandell-envsys/habitatSuitability/blob/main/1_2_climate.ipynb)\n",
    "- [2_slope](https://github.com/byandell-envsys/habitatSuitability/blob/main/2_slope.ipynb)\n",
    "- [3_harmonize](https://github.com/byandell-envsys/habitatSuitability/blob/main/3_harmonize.ipynb)\n",
    "- [4_build](https://github.com/byandell-envsys/habitatSuitability/blob/main/4_build.ipynb)\n"
   ]
  },
  {
   "cell_type": "markdown",
   "metadata": {},
   "source": [
    "Here is pseudocode for the steps. Workflows cited above will have more detail\n",
    "and initial plots.\n",
    "\n",
    "- 0: GeoDataFrame `buffalo_gdf` is created in step 0 and then stored for later retrieval.\n",
    "- 1: Soil variable is `mean` of `sand` at depth `100-200m` is created (ignoring `buffer` of `0.1`) with functions\n",
    "    - `buffalo_da = merge_soil(buffalo_gdf, \"sand\", \"mean\", \"100_200\")`\n",
    "    - `gdf_over_da(buffalo_gdf, buffalo_da)`\n",
    "- 2_1: Climate variables are projections of precipation `pr` under representative concentration pathway scenarios `rcp45` and `rcp85` for years `2026-2030`.\n",
    "    - `maca_df = process_maca({'buffalo': buffalo_gdf},\n",
    "                              ['pr'], ['rcp85', 'rcp45'], [2026])`\n",
    "    - `maca_2027 = maca_year(maca_df, 0, 2027)` # 0 = `rcp85`, 1 = `rcp45`\n",
    "    - `gdf_over_da(buffalo_gdf, maca_2027)`\n",
    "- 2_2: Elevation variable `slope`\n",
    "    - `srtm_da = srtm_download(buffalo_gdf, elevation_dir, 0.1)`\n",
    "    - `slope_da = srtm_slope(srtm_da)`\n",
    "    - `gdf_over_da(buffalo_gdf, slope_da)`\n",
    "- 3: Harmonize data\n",
    "    - Watch video and create harmonizing function(s)\n",
    "- 4: Build fuzzy model\n",
    "    - use hill functions to transform harmonized DataArrays into 0-1 DataArrays\n",
    "    - multiply them together\n",
    "\n",
    "\n"
   ]
  }
 ],
 "metadata": {
  "language_info": {
   "name": "python"
  }
 },
 "nbformat": 4,
 "nbformat_minor": 2
}
